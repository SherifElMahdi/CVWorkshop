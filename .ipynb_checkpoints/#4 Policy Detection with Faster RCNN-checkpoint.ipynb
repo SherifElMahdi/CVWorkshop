{
 "cells": [
  {
   "cell_type": "code",
   "execution_count": 1,
   "metadata": {
    "collapsed": true
   },
   "outputs": [],
   "source": [
    "import os, sys, json\n",
    "import re\n",
    "from os import path\n",
    "import numpy as np\n",
    "from PIL import Image\n",
    "from cntk import load_model\n",
    "from easydict import EasyDict as edict"
   ]
  },
  {
   "cell_type": "code",
   "execution_count": null,
   "metadata": {
    "collapsed": true
   },
   "outputs": [],
   "source": [
    "    cntk_path = \"C:\\\\local\\\\cntk\"\n",
    "cntk_scripts_path = path.join(cntk_path, r\"Examples/Image/Detection/\")\n",
    "sys.path.append(cntk_scripts_path)\n",
    "\n",
    "from FasterRCNN.FasterRCNN_eval import FasterRCNN_Evaluator\n",
    "from utils.config_helpers import merge_configs\n",
    "import utils.od_utils as od"
   ]
  },
  {
   "cell_type": "code",
   "execution_count": null,
   "metadata": {
    "collapsed": true
   },
   "outputs": [],
   "source": [
    "    available_detectors = ['FasterRCNN']\n",
    "\n",
    "    def get_configuration(classes):\n",
    "        # load configs for detector, base network and data set\n",
    "        from FasterRCNN.FasterRCNN_config import cfg as detector_cfg\n",
    "\n",
    "        # for VGG16 base model use:         from utils.configs.VGG16_config import cfg as network_cfg\n",
    "        # for AlexNet base model use:       from utils.configs.AlexNet_config import cfg as network_cfg\n",
    "        from utils.configs.AlexNet_config import cfg as network_cfg\n",
    "        dataset_cfg = generate_data_cfg(classes)\n",
    "        return merge_configs([detector_cfg, network_cfg, dataset_cfg, {'DETECTOR': 'FasterRCNN'}])\n",
    "\n",
    "    def generate_data_cfg(classes):\n",
    "        cfg = edict({\"DATA\":edict()})\n",
    "        cfg.NUM_CHANNELS = 3 # image channels\n",
    "        cfg[\"DATA\"].CLASSES = classes\n",
    "        cfg[\"DATA\"].NUM_CLASSES = len(classes)\n",
    "        return cfg\n",
    "\n",
    "    def predict(img_path, evaluator, cfg, debug=False):\n",
    "        # detect objects in single image\n",
    "        regressed_rois, cls_probs = evaluator.process_image(img_path)\n",
    "        bboxes, labels, scores = od.filter_results(regressed_rois, cls_probs, cfg)\n",
    "        # visualize detections on image\n",
    "        if debug:\n",
    "            od.visualize_results(img_path, bboxes, labels, scores, cfg, store_to_path=img_path+\"o.jpg\")\n",
    "        # write detection results to output\n",
    "        fg_boxes = np.where(labels > 0)\n",
    "        result = []\n",
    "        for i in fg_boxes[0]:\n",
    "            # print (cfg[\"DATA\"].CLASSES)\n",
    "            # print(labels)\n",
    "            result.append({'label':cfg[\"DATA\"].CLASSES[labels[i]], 'score':'%.3f'%(scores[i]), 'box':[int(v) for v in bboxes[i]]})\n",
    "        return result"
   ]
  }
 ],
 "metadata": {
  "anaconda-cloud": {},
  "kernelspec": {
   "display_name": "Python 3",
   "language": "python",
   "name": "python3"
  },
  "language_info": {
   "codemirror_mode": {
    "name": "ipython",
    "version": 3
   },
   "file_extension": ".py",
   "mimetype": "text/x-python",
   "name": "python",
   "nbconvert_exporter": "python",
   "pygments_lexer": "ipython3",
   "version": "3.5.2"
  }
 },
 "nbformat": 4,
 "nbformat_minor": 1
}
