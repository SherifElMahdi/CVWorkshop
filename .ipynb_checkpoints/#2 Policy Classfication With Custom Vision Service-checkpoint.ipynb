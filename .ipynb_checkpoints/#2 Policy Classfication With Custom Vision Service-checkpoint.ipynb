{
 "cells": [
  {
   "cell_type": "markdown",
   "metadata": {},
   "source": [
    "## Prerequisites "
   ]
  },
  {
   "cell_type": "code",
   "execution_count": 1,
   "metadata": {
    "collapsed": true
   },
   "outputs": [],
   "source": [
    "# Install Custom Vision Service SDK\n",
    "# !git config --system core.longpaths true# uncomment this if you get an error\n",
    "# !pip install \"git+https://github.com/Azure/azure-sdk-for-python#egg=azure-cognitiveservices-vision-customvision&subDirectory=azure-cognitiveservices-vision-customvision\""
   ]
  },
  {
   "cell_type": "code",
   "execution_count": 2,
   "metadata": {
    "collapsed": true
   },
   "outputs": [],
   "source": [
    "# Useful for being able to dump images into the Notebook\n",
    "import IPython.display as D"
   ]
  },
  {
   "cell_type": "markdown",
   "metadata": {},
   "source": [
    "# [Custom Vision Service](https://customvision.ai)\n",
    "\n",
    "![url](http://aihelpwebsite.com/Portals/0/Blog/Files/1/1024/Windows-Live-Writer-5d53ba6d17ba_CCC7-image_dcb1e7bb-3eb3-4e94-a0d1-c04d397fc7f5.png)\n"
   ]
  },
  {
   "cell_type": "markdown",
   "metadata": {},
   "source": [
    "Sourced here: https://docs.microsoft.com/en-us/azure/cognitive-services/custom-vision-service/python-tutorial and https://www.microsoft.com/developerblog/2017/05/12/food-classification-custom-vision-service/\n",
    "\n",
    "### Custom Vision Service brings the power of machine learning to your apps\n",
    "Custom Vision Service is a tool for building custom image classifiers. It makes it easy and fast to build, deploy, and improve an image classifier. We provide a REST API and a web interface to upload your images and train.\n",
    "\n",
    "### What can Custom Vision Service do well?\n",
    "Custom Vision Service is a tool for building custom image classifiers, and for making them better over time. For example, if you want a tool that could identify images of \"Daisies\", \"Daffodils\", and \"Dahlias\", you could train a classifier to do that. You do so by providing Custom Vision Service with images for each tag you want to recognize.\n",
    "\n",
    "![](https://computervisionworkshop.blob.core.windows.net/media/img_assets/custom-vision-details.jpg)"
   ]
  },
  {
   "cell_type": "markdown",
   "metadata": {},
   "source": [
    "Custom Vision Service works best when the item you are trying to classify is prominent in your image. Custom Vision Service does \"image classification\" but not yet \"object detection.\" This means that Custom Vision Service identifies whether an image is of a particular object, but not where that object is within the image.+\n",
    "\n",
    "Very few images are required to create a classifier -- 30 images per class is enough to start your prototype. The methods Custom Vision Service uses are robust to differences, which allows you to start prototyping with so little data. However, this means Custom Vision Service is not well suited to scenarios where you want to detect very subtle differences (for example, minor cracks or dents in quality assurance scenarios.)\n",
    "\n",
    "Custom Vision Service is designed to make it easy to start building your classifier, and to help you improve the quality of your classifier over time.\n",
    "\n",
    "Developers can also export their models to be run on the edge devices such as [iOS](https://azure.microsoft.com/en-us/blog/custom-vision-service-introduces-classifier-export-starting-with-coreml-for-ios-11/)"
   ]
  },
  {
   "cell_type": "markdown",
   "metadata": {},
   "source": [
    "# Challenge"
   ]
  },
  {
   "cell_type": "markdown",
   "metadata": {},
   "source": [
    "## Step 1: Prepare the keys and the images needed for the example\n",
    "Custom Vision Service can be found by clicking here: https://customvision.ai\n",
    "\n",
    "Obtain your training and prediction key by logging into the Custom Vision Service and navigating to account settings as shown below.\n",
    "\n",
    "![](https://computervisionworkshop.blob.core.windows.net/media/img_assets/custom vision service.jpg)\n"
   ]
  },
  {
   "cell_type": "markdown",
   "metadata": {},
   "source": [
    "## Step 2: Split our data into Train and Test Sets\n",
    "\n",
    "We need to split into our data into test and train sets. We do this so that we can benchmark our model on examples it's never seen before this prevents us from overfitting the data we have."
   ]
  },
  {
   "cell_type": "code",
   "execution_count": null,
   "metadata": {
    "collapsed": true
   },
   "outputs": [],
   "source": [
    "import os\n",
    "from multiprocessing.dummy import Pool as ThreadPool"
   ]
  },
  {
   "cell_type": "code",
   "execution_count": 7,
   "metadata": {},
   "outputs": [
    {
     "name": "stdout",
     "output_type": "stream",
     "text": [
      "processing C:\\local\\cntk\\Examples\\Image\\DataSets\\Beverages\\Classification\\Invalid\\\n",
      "processing C:\\local\\cntk\\Examples\\Image\\DataSets\\Beverages\\Classification\\Valid\\\n",
      "Done\n"
     ]
    }
   ],
   "source": [
    "import numpy as np\n",
    "from sklearn.model_selection import train_test_split\n",
    "\n",
    "dir_src = \"C:\\\\local\\\\cntk\\\\Examples\\\\Image\\\\DataSets\\\\Beverages\\\\Classification\\\\\"\n",
    "dir_test = \"C:\\\\local\\\\cntk\\\\Examples\\\\Image\\\\DataSets\\\\Beverages\\\\Classification\\\\Test\"\n",
    "class_dirs = os.listdir(dir_src)\n",
    "\n",
    "for class_dir in class_dirs:\n",
    "    origData = dir_src + class_dir + \"\\\\\"\n",
    "    testData = dir_test + class_dir + \"\\\\\"\n",
    "\n",
    "    print(\"processing {0}\".format(origData))\n",
    "    X = y = os.listdir(origData)\n",
    "    # use 1/4 data for testing\n",
    "    X_train, X_test, y_train, y_test = train_test_split(X, y, test_size=0.25, random_state=0)\n",
    "    os.makedirs(testData)\n",
    "    for x in X_test:\n",
    "        os.rename(origData + x, testData + x)\n",
    "\n",
    "print(\"Done\")"
   ]
  },
  {
   "cell_type": "markdown",
   "metadata": {},
   "source": [
    "## Step 3: Create a Custom Vision Service project\n",
    "\n",
    "Next we need to programatically make a new custom vision service project using the keys your sourced above."
   ]
  },
  {
   "cell_type": "code",
   "execution_count": 1,
   "metadata": {
    "collapsed": true
   },
   "outputs": [],
   "source": [
    "from azure.cognitiveservices.vision.customvision.training import training_api\n",
    "from azure.cognitiveservices.vision.customvision.training.models import ImageUrlCreateEntry\n",
    "\n",
    "# Replace with a valid key\n",
    "training_key = #\"<your training key>\"\n",
    "prediction_key = #\"<your prediction key>\"\n",
    "\n",
    "trainer = training_api.TrainingApi(training_key)"
   ]
  },
  {
   "cell_type": "code",
   "execution_count": 7,
   "metadata": {},
   "outputs": [
    {
     "name": "stdout",
     "output_type": "stream",
     "text": [
      "Creating Beverage Policy Classifier...\n"
     ]
    }
   ],
   "source": [
    "# Create a new project\n",
    "print(\"Creating Beverage Policy Classifier...\")\n",
    "project = trainer.create_project(\"Beverage Policy Classifier\")"
   ]
  },
  {
   "cell_type": "markdown",
   "metadata": {},
   "source": [
    "## Step 4: Add tags to your project\n",
    "\n",
    "Run the following code to create tags for our **Valid** and **Invalid** Examples "
   ]
  },
  {
   "cell_type": "code",
   "execution_count": 8,
   "metadata": {
    "collapsed": true
   },
   "outputs": [],
   "source": [
    "# Make two tags in the new project\n",
    "valid_tag = trainer.create_tag(project.id, \"Valid\")\n",
    "invalid_tag = trainer.create_tag(project.id, \"Invalid\")"
   ]
  },
  {
   "cell_type": "markdown",
   "metadata": {},
   "source": [
    "## Step 5: Upload images to the project\n",
    "To add the images we have to the project, insert the following code after the tag creation. This will upload the image with the corresponding tag."
   ]
  },
  {
   "cell_type": "code",
   "execution_count": 19,
   "metadata": {},
   "outputs": [
    {
     "name": "stdout",
     "output_type": "stream",
     "text": [
      "Adding images...\n"
     ]
    },
    {
     "name": "stderr",
     "output_type": "stream",
     "text": [
      "C:\\local\\Anaconda3-4.1.1-Windows-x86_64\\envs\\cntk-py35\\lib\\site-packages\\ipykernel_launcher.py:22: DeprecationWarning: The Windows bytes API has been deprecated, use Unicode filenames instead\n",
      "C:\\local\\Anaconda3-4.1.1-Windows-x86_64\\envs\\cntk-py35\\lib\\site-packages\\ipykernel_launcher.py:23: DeprecationWarning: The Windows bytes API has been deprecated, use Unicode filenames instead\n"
     ]
    },
    {
     "name": "stdout",
     "output_type": "stream",
     "text": [
      "....................................................................................................................................................................................Added 180 images, 90 valid, 90 invalid.\n"
     ]
    }
   ],
   "source": [
    "print (\"Adding images...\")\n",
    "\n",
    "def upload(filepath):\n",
    "    with open(filepath, mode=\"rb\") as img_data:\n",
    "        if \"Invalid\" in filepath:\n",
    "            trainer.create_images_from_data(project.id, img_data.read(), [ invalid_tag.id ])\n",
    "        else:\n",
    "            trainer.create_images_from_data(project.id, img_data.read(), [ valid_tag.id ])\n",
    "    print('.', end='')\n",
    "    \n",
    "def upload_parallel(filepaths, threads=10):\n",
    "    pool = ThreadPool(threads)\n",
    "    results = pool.map(upload, filepaths)\n",
    "    pool.close()\n",
    "    pool.join()\n",
    "\n",
    "valid_dir = \"C:\\\\local\\\\cntk\\\\Examples\\\\Image\\\\DataSets\\\\Beverages\\\\Classification\\\\Valid\"\n",
    "invalid_dir = \"C:\\\\local\\\\cntk\\\\Examples\\\\Image\\\\DataSets\\\\Beverages\\\\Classification\\\\Invalid\"\n",
    "valid_paths = [valid_dir + \"\\\\\" + os.fsdecode(image) for image in os.listdir(os.fsencode(valid_dir))]\n",
    "invalid_paths = [invalid_dir + \"\\\\\" + os.fsdecode(image) for image in os.listdir(os.fsencode(invalid_dir))]\n",
    "img_paths = valid_paths + invalid_paths\n",
    "upload_parallel(img_paths)\n",
    "\n",
    "print(\"Added {} images, {} valid, {} invalid.\".format(len(img_paths), len(valid_paths), len(invalid_paths)))"
   ]
  },
  {
   "cell_type": "markdown",
   "metadata": {},
   "source": [
    "## Step 6: Train the project\n",
    "Now that we've added tags and images to the project, we can train it. This creates the first iteration in the project. We can then mark this iteration as the default iteration."
   ]
  },
  {
   "cell_type": "code",
   "execution_count": 20,
   "metadata": {},
   "outputs": [
    {
     "name": "stdout",
     "output_type": "stream",
     "text": [
      "Training...\n",
      "Training status: Training\n",
      "Training status: Training\n",
      "Training status: Training\n",
      "Training status: Training\n",
      "Training status: Training\n",
      "Training status: Training\n",
      "Training status: Training\n",
      "Training status: Completed\n"
     ]
    }
   ],
   "source": [
    "import time\n",
    "\n",
    "print (\"Training...\")\n",
    "iteration = trainer.train_project(project.id)\n",
    "while (iteration.status == \"Training\"):\n",
    "    iteration = trainer.get_iteration(project.id, iteration.id)\n",
    "    print (\"Training status: \" + iteration.status)\n",
    "    time.sleep(1)"
   ]
  },
  {
   "cell_type": "markdown",
   "metadata": {},
   "source": [
    "## Step 7: Evaluate the Model\n",
    "\n",
    "Now lets evaluate the model on the local test dataset that the service has never seen."
   ]
  },
  {
   "cell_type": "code",
   "execution_count": 12,
   "metadata": {},
   "outputs": [
    {
     "name": "stderr",
     "output_type": "stream",
     "text": [
      "C:\\local\\Anaconda3-4.1.1-Windows-x86_64\\envs\\cntk-py35\\lib\\site-packages\\ipykernel_launcher.py:47: DeprecationWarning: The Windows bytes API has been deprecated, use Unicode filenames instead\n",
      "C:\\local\\Anaconda3-4.1.1-Windows-x86_64\\envs\\cntk-py35\\lib\\site-packages\\ipykernel_launcher.py:48: DeprecationWarning: The Windows bytes API has been deprecated, use Unicode filenames instead\n"
     ]
    },
    {
     "name": "stdout",
     "output_type": "stream",
     "text": [
      ". Invalid. Invalid. Invalid. Invalid. Valid. Invalid. Invalid. Invalid. Valid. Valid. Invalid. Invalid. Valid. Invalid. Invalid. Valid. Invalid. Invalid. Invalid. Valid. Invalid. Invalid. Valid. Invalid. Valid. Invalid. Invalid. Invalid. Valid. Invalid. Valid. Invalid. Valid. Invalid. Valid. Invalid. Valid. Invalid. Valid. Invalid. Valid. Valid. Valid. Valid. Valid. Valid. Invalid. Valid. Valid. Valid. Invalid. Valid. Valid. Valid. Valid. Invalid. Valid. Invalid. Invalid. Invalid. Invalid. Invalid. Invalid. Invalid. Invalid. Invalid. Invalid. Invalid. Invalid. Invalid. Invalid. Invalid. Invalid. Invalid. Invalid. Invalid. Invalid. Invalid. Invalid. Invalid. Invalid. Invalid. Invalid. Invalid. Invalid. Invalid"
     ]
    }
   ],
   "source": [
    "from azure.cognitiveservices.vision.customvision.prediction import prediction_endpoint\n",
    "from azure.cognitiveservices.vision.customvision.prediction.prediction_endpoint import models\n",
    "\n",
    "# Now there is a trained endpoint, it can be used to make a prediction\n",
    "\n",
    "predictor = prediction_endpoint.PredictionEndpoint(prediction_key)\n",
    "\n",
    "project_id = \"778c4ce0-347a-4776-8ed4-3ad9d9067582\" # project.id\n",
    "def predict(filepath):\n",
    "    with open(filepath, mode=\"rb\") as test_data:\n",
    "        results = predictor.predict_image(project_id, test_data.read())#, iteration.id)\n",
    "    pred  = max(results.predictions, key=lambda x:x.probability).tag\n",
    "    true ='Invalid' if \"Invalid\" in filepath else 'Valid'\n",
    "    print('.', pred , end='')\n",
    "    return (true, pred)\n",
    "        \n",
    "def predict_parallel(filepaths, threads=2):\n",
    "    pool = ThreadPool(threads)\n",
    "    results = pool.map(predict, filepaths)\n",
    "    pool.close()\n",
    "    pool.join()\n",
    "    return zip(*results)\n",
    "\n",
    "test_valid_dir = \"C:\\\\local\\\\cntk\\\\Examples\\\\Image\\\\DataSets\\\\Beverages\\\\Classification\\\\TestValid\"\n",
    "test_invalid_dir = \"C:\\\\local\\\\cntk\\\\Examples\\\\Image\\\\DataSets\\\\Beverages\\\\Classification\\\\TestInvalid\"\n",
    "test_valid_paths = [test_valid_dir + \"\\\\\" + os.fsdecode(image) for image in os.listdir(os.fsencode(test_valid_dir))]\n",
    "test_invalid_paths = [test_invalid_dir + \"\\\\\" + os.fsdecode(image) for image in os.listdir(os.fsencode(test_invalid_dir))]\n",
    "test_img_paths = test_valid_paths + test_invalid_paths\n",
    "\n",
    "y_true, y_pred = predict_parallel(test_img_paths)"
   ]
  },
  {
   "cell_type": "code",
   "execution_count": null,
   "metadata": {
    "collapsed": true
   },
   "outputs": [],
   "source": [
    "# http://scikit-learn.org/stable/modules/model_evaluation.html\n",
    "# PRECISION: What percent of positive predictions were correct? PR=TP/Total Predicted positive\n",
    "# RECALL: What percent of the positive cases did you catch?? R=TP/Total\n",
    "# Real Positive\n",
    "\n",
    "from sklearn import metrics\n",
    "import requests\n",
    "import os\n",
    "import base64\n",
    "import pandas as pd\n",
    "import sys\n",
    "\n",
    "import numpy as np\n",
    "import matplotlib.pyplot as plt\n",
    "import itertools\n",
    "import time\n",
    "\n",
    "from sklearn.metrics import confusion_matrix\n",
    "\n",
    "\n",
    "def plot_confusion_matrix(cm, classes,\n",
    "                          normalize=False,\n",
    "                          title='Confusion matrix',\n",
    "                          cmap=plt.cm.Blues):\n",
    "    \"\"\"\n",
    "    This function prints and plots the confusion matrix.\n",
    "    Normalization can be applied by setting `normalize=True`.\n",
    "    \"\"\"\n",
    "    plt.imshow(cm, interpolation='nearest', cmap=cmap)\n",
    "    plt.title(title)\n",
    "    plt.colorbar()\n",
    "    tick_marks = np.arange(len(classes))\n",
    "    plt.xticks(tick_marks, classes, rotation=45)\n",
    "    plt.yticks(tick_marks, classes)\n",
    "\n",
    "    if normalize:\n",
    "        cm = cm.astype('float') / cm.sum(axis=1)[:, np.newaxis]\n",
    "        print(\"Normalized confusion matrix\")\n",
    "    else:\n",
    "        print('Confusion matrix, without normalization')\n",
    "\n",
    "    print(cm)\n",
    "\n",
    "    thresh = cm.max() / 2.\n",
    "    for i, j in itertools.product(range(cm.shape[0]), range(cm.shape[1])):\n",
    "        plt.text(j, i, cm[i, j],\n",
    "                 horizontalalignment=\"center\",\n",
    "                 color=\"white\" if cm[i, j] > thresh else \"black\")\n",
    "\n",
    "    plt.tight_layout()\n",
    "    plt.ylabel('True label')\n",
    "    plt.xlabel('Predicted label')"
   ]
  },
  {
   "cell_type": "code",
   "execution_count": 13,
   "metadata": {
    "scrolled": false
   },
   "outputs": [
    {
     "name": "stdout",
     "output_type": "stream",
     "text": [
      "             precision    recall  f1-score   support\n",
      "\n",
      "    Invalid       0.94      1.00      0.97        30\n",
      "      Valid       1.00      0.93      0.97        30\n",
      "\n",
      "avg / total       0.97      0.97      0.97        60\n",
      "\n",
      "Confusion matrix, without normalization\n",
      "[[30  0]\n",
      " [ 2 28]]\n",
      "Normalized confusion matrix\n",
      "[[ 1.    0.  ]\n",
      " [ 0.07  0.93]]\n"
     ]
    },
    {
     "data": {
      "image/png": "[encoded data removed]",
      "text/plain": [
       "<matplotlib.figure.Figure at 0x19068eb7898>"
      ]
     },
     "metadata": {},
     "output_type": "display_data"
    },
    {
     "data": {
      "image/png": "[encoded data removed]",
      "text/plain": [
       "<matplotlib.figure.Figure at 0x19068eb7940>"
      ]
     },
     "metadata": {},
     "output_type": "display_data"
    }
   ],
   "source": [
    "start_time = time.time()\n",
    "\n",
    "print(metrics.classification_report(y_true, y_pred))\n",
    "\n",
    "# Compute confusion matrix\n",
    "cnf_matrix = confusion_matrix(y_true, y_pred)\n",
    "np.set_printoptions(precision=2)\n",
    "\n",
    "# Plot non-normalized confusion matrix\n",
    "plt.figure()\n",
    "class_names = sorted(set(y_true))\n",
    "plot_confusion_matrix(cnf_matrix, classes=class_names,\n",
    "                      title='Confusion matrix, without normalization')\n",
    "\n",
    "# Plot normalized confusion matrix\n",
    "plt.figure()\n",
    "plot_confusion_matrix(cnf_matrix, classes=class_names, normalize=True,\n",
    "                      title='Normalized confusion matrix')\n",
    "\n",
    "plt.show()"
   ]
  },
  {
   "cell_type": "markdown",
   "metadata": {},
   "source": [
    "# Conclusions"
   ]
  },
  {
   "cell_type": "markdown",
   "metadata": {
    "collapsed": true
   },
   "source": [
    "As you can see the custom vision service is a great tool for generating strong models with relativley small amount of data and little work. In the majority of use cases its a go too tool and a great place to get started.Custom Vision Service works best when the item you are trying to classify is prominent in your image.  \n",
    "\n",
    "The service is a go to starting point for any classification task. However there are a couple of items to consider when deploying for production.\n",
    "\n",
    "1) What are the cases that the service fails on (It could be that the 2% error case appears 30% in production or are the most important cases to consider for your use case.\n",
    "\n",
    "2) How many classes/policies are you classifiying (The models work better with 2-10 policies )\n",
    "\n",
    "3) What domain is your task?\n",
    " "
   ]
  },
  {
   "cell_type": "code",
   "execution_count": null,
   "metadata": {
    "collapsed": true
   },
   "outputs": [],
   "source": []
  }
 ],
 "metadata": {
  "kernelspec": {
   "display_name": "Python 3",
   "language": "python",
   "name": "python3"
  },
  "language_info": {
   "codemirror_mode": {
    "name": "ipython",
    "version": 3
   },
   "file_extension": ".py",
   "mimetype": "text/x-python",
   "name": "python",
   "nbconvert_exporter": "python",
   "pygments_lexer": "ipython3",
   "version": "3.5.2"
  }
 },
 "nbformat": 4,
 "nbformat_minor": 2
}
